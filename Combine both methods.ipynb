{
 "cells": [
  {
   "cell_type": "markdown",
   "metadata": {},
   "source": [
    "# How good will it go when we combine both methods together? \n",
    "\n",
    "Process: \n",
    "    - Generate text as usual with the grammar finetuned GPT model\n",
    "    - Take the generated sample, split it on EOS tokens and grammar translate it with the translation model\n",
    "    - Join it again. Now we got corrected Text that has much less errors in comparison to the standard GPT model\n",
    "    - Outperforms the errorRate of the single models!"
   ]
  },
  {
   "cell_type": "code",
   "execution_count": 45,
   "metadata": {},
   "outputs": [],
   "source": [
    "import pickle\n",
    "from utility import *"
   ]
  },
  {
   "cell_type": "markdown",
   "metadata": {},
   "source": [
    "## Step1 : Check how much errors the classic model makes"
   ]
  },
  {
   "cell_type": "code",
   "execution_count": 29,
   "metadata": {},
   "outputs": [],
   "source": [
    "data = open(\"classic/gpt2_generationgenerate_cf_1.txt\",\"r+\")"
   ]
  },
  {
   "cell_type": "code",
   "execution_count": 30,
   "metadata": {},
   "outputs": [],
   "source": [
    "data = data.read()\n",
    "data = data.split(\"<|endoftext|>\")\n",
    "texts = data"
   ]
  },
  {
   "cell_type": "code",
   "execution_count": 31,
   "metadata": {},
   "outputs": [],
   "source": [
    "prep = []\n",
    "for block in texts:\n",
    "    sentence = block.replace(\". \", \".<|splitter|>\")\n",
    "    sentence = sentence.replace(\"? \", \"?<|splitter|>\")\n",
    "    sentence = sentence.replace(\"! \", \"!<|splitter|>\")\n",
    "    sentence = sentence.replace(\".\\n\", \".\\n<|splitter|>\")\n",
    "    sentence = sentence.replace(\".\\n\\n\", \".\\n\\n<|splitter|>\")\n",
    "    sentence = sentence.replace(\"?\\n\", \"?\\n<|splitter|>\")\n",
    "    sentence = sentence.replace(\"?\\n\\n\", \"?\\n\\n<|splitter|>\")\n",
    "    sentence = sentence.replace(\"!\\n\", \"!\\n<|splitter|>\")\n",
    "    sentence = sentence.replace(\"!\\n\\n\", \"!\\n\\n<|splitter|>\")\n",
    "    prep.append(sentence)\n",
    "splitted = []\n",
    "for block in prep: \n",
    "    splitted.append(block.split(\"<|splitter|>\"))\n",
    "final = [item for sublist in splitted for item in sublist]"
   ]
  },
  {
   "cell_type": "code",
   "execution_count": 37,
   "metadata": {},
   "outputs": [],
   "source": [
    "%%capture\n",
    "corrected,stats  = correct(final)"
   ]
  },
  {
   "cell_type": "code",
   "execution_count": 38,
   "metadata": {},
   "outputs": [
    {
     "data": {
      "text/plain": [
       "[594, 1187, 55986, 0.02120172900367949, 1.187, 0]"
      ]
     },
     "execution_count": 38,
     "metadata": {},
     "output_type": "execute_result"
    }
   ],
   "source": [
    "grammar_stats(stats)"
   ]
  },
  {
   "cell_type": "markdown",
   "metadata": {},
   "source": [
    "## Step2 : build a translation dataset from the finetuned samples"
   ]
  },
  {
   "cell_type": "code",
   "execution_count": 33,
   "metadata": {},
   "outputs": [],
   "source": [
    "condition = \"The Technology Report empowers or enlightens. ==== The Technology Report empowers or enlightens.\""
   ]
  },
  {
   "cell_type": "code",
   "execution_count": 34,
   "metadata": {},
   "outputs": [],
   "source": [
    "examples = []\n",
    "for x in final: \n",
    "    examples.append( condition + \" \" + x + \"====\" + x + \"<|endoftext|>\")"
   ]
  },
  {
   "cell_type": "code",
   "execution_count": 35,
   "metadata": {},
   "outputs": [],
   "source": [
    "examples = \" \".join(examples)"
   ]
  },
  {
   "cell_type": "code",
   "execution_count": null,
   "metadata": {},
   "outputs": [],
   "source": [
    "examples[:1000]"
   ]
  },
  {
   "cell_type": "code",
   "execution_count": null,
   "metadata": {},
   "outputs": [],
   "source": [
    "f = open(\"EOS_combined.txt\", \"w\",encoding = \"UTF-8\")\n",
    "f.write(examples)\n",
    "f.close()"
   ]
  },
  {
   "cell_type": "markdown",
   "metadata": {},
   "source": [
    "## Step3: translate them with our translation model\n",
    "\n",
    "    - Finetuned 1 Epoch + 12 layer translation model\n",
    "    - Finetuned 1 Epoch + 6layer translation model"
   ]
  },
  {
   "cell_type": "code",
   "execution_count": 43,
   "metadata": {},
   "outputs": [],
   "source": [
    "a = pickle.load(open(\"Combine/combined.p\",\"rb\"))"
   ]
  },
  {
   "cell_type": "code",
   "execution_count": 46,
   "metadata": {},
   "outputs": [],
   "source": [
    "%%capture\n",
    "corrected, stats = correct(a)"
   ]
  },
  {
   "cell_type": "code",
   "execution_count": 47,
   "metadata": {},
   "outputs": [
    {
     "data": {
      "text/plain": [
       "[447, 816, 55797, 0.014624442174310446, 0.816, 0]"
      ]
     },
     "execution_count": 47,
     "metadata": {},
     "output_type": "execute_result"
    }
   ],
   "source": [
    "grammar_stats(stats)"
   ]
  },
  {
   "cell_type": "code",
   "execution_count": 48,
   "metadata": {},
   "outputs": [],
   "source": [
    "b = pickle.load(open(\"Combine/combined_6.p\",\"rb\"))"
   ]
  },
  {
   "cell_type": "code",
   "execution_count": 51,
   "metadata": {},
   "outputs": [],
   "source": [
    "%%capture\n",
    "corrected, stats = correct(b)"
   ]
  },
  {
   "cell_type": "code",
   "execution_count": 52,
   "metadata": {},
   "outputs": [
    {
     "data": {
      "text/plain": [
       "[480, 862, 55811, 0.015444983963734747, 0.862, 0]"
      ]
     },
     "execution_count": 52,
     "metadata": {},
     "output_type": "execute_result"
    }
   ],
   "source": [
    "grammar_stats(stats)"
   ]
  },
  {
   "cell_type": "markdown",
   "metadata": {},
   "source": [
    "## Step4: Be happy because it works  =) "
   ]
  }
 ],
 "metadata": {
  "kernelspec": {
   "display_name": "Python 3",
   "language": "python",
   "name": "python3"
  },
  "language_info": {
   "codemirror_mode": {
    "name": "ipython",
    "version": 3
   },
   "file_extension": ".py",
   "mimetype": "text/x-python",
   "name": "python",
   "nbconvert_exporter": "python",
   "pygments_lexer": "ipython3",
   "version": "3.5.2"
  }
 },
 "nbformat": 4,
 "nbformat_minor": 2
}
