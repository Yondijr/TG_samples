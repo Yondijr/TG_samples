{
 "cells": [
  {
   "cell_type": "markdown",
   "metadata": {},
   "source": [
    "# Get corrected samples from the translation model"
   ]
  },
  {
   "cell_type": "code",
   "execution_count": 1,
   "metadata": {},
   "outputs": [],
   "source": [
    "from transformers import GPT2Tokenizer\n",
    "from utility import *"
   ]
  },
  {
   "cell_type": "code",
   "execution_count": 2,
   "metadata": {},
   "outputs": [],
   "source": [
    "OBJ = filter_examples()"
   ]
  },
  {
   "cell_type": "code",
   "execution_count": 3,
   "metadata": {},
   "outputs": [
    {
     "name": "stdout",
     "output_type": "stream",
     "text": [
      "TRANSLATIONS:dict_keys(['EN_UNPAIRED_BRACKETS', 'MORFOLOGIK_RULE_EN_US', 'CD_NN', 'HE_VERB_AGR', 'A_PLURAL', 'SENTENCE_FRAGMENT', 'ENGLISH_WORD_REPEAT_BEGINNING_RULE', 'MANY_NN', 'I_LOWERCASE', 'ITS_JJ_NNSNN', 'I_AM', 'ALLY_ALLAY', 'NO_SPACE_CLOSING_QUOTE', 'UPPERCASE_SENTENCE_START', 'COMMA_PARENTHESIS_WHITESPACE', 'ENGLISH_WORD_REPEAT_RULE', 'SENTENCE_WHITESPACE', 'A_INFINITVE', 'THIS_NNS', 'EN_A_VS_AN', 'A_LOT_OF_NN', 'NON3PRS_VERB', 'I_A', 'THE_SUPERLATIVE', 'IT_SELF', 'GENERAL_XX', 'PROGRESSIVE_VERBS', 'AS_ADJ_AS', 'POSSESSIVE_APOSTROPHE', 'IT_VBZ', 'FEWER_LESS'])\n",
      "Original:dict_keys(['UPPERCASE_SENTENCE_START', 'EN_UNPAIRED_BRACKETS', 'EN_QUOTES', 'MORFOLOGIK_RULE_EN_US', 'COMMA_PARENTHESIS_WHITESPACE', 'CD_NN', 'WHITESPACE_RULE', 'DOUBLE_PUNCTUATION', 'HE_VERB_AGR', 'A_PLURAL', 'SENTENCE_FRAGMENT', 'ENGLISH_WORD_REPEAT_BEGINNING_RULE', 'SENTENCE_WHITESPACE', 'CANT', 'EN_CONTRACTION_SPELLING', 'I_LOWERCASE', 'ENGLISH_WORD_REPEAT_RULE', 'ITS_JJ_NNSNN', 'PRP_PAST_PART', 'AM_I', 'I_AM', 'EN_A_VS_AN', 'SO_AS_TO', 'EN_COMPOUNDS', 'IT_IS', 'ADVISE_VBG', 'SENT_START_CONJUNCTIVE_LINKING_ADVERB_COMMA', 'COMP_THAN', 'A_INFINITVE', 'NON3PRS_VERB', 'THIS_NNS', 'PHRASE_REPETITION', 'I_A', 'THE_SUPERLATIVE', 'MANY_NN', 'IT_SELF', 'ALL_OF_THE', 'GENERAL_XX', 'PROGRESSIVE_VERBS', 'AS_ADJ_AS', 'TRY_AND', 'DT_PRP', 'POSSESSIVE_APOSTROPHE', 'IT_VBZ', 'ONES', 'DT_DT', 'WHETHER', 'SAY_TELL', 'FEWER_LESS', 'ABOUT_ITS_NN', 'ONE_OF_THE_ONLY', 'MUCH_COUNTABLE', 'THESE_ONES'])\n"
     ]
    }
   ],
   "source": [
    "OBJ.get_mistake_types()"
   ]
  },
  {
   "cell_type": "code",
   "execution_count": 47,
   "metadata": {},
   "outputs": [
    {
     "name": "stdout",
     "output_type": "stream",
     "text": [
      "Mistake type: SAY_TELL /ALL upgraded\n",
      "Original:McGill, who says her family did not have a law enforcement incident report as of 5 p.m., is dubious Francis publicly expressed remorse.\n",
      "\n",
      "Translation: �Now, she knows you absolutely have a law enforcement investigation, � she said.<|endoftext|>\n",
      "818\n"
     ]
    }
   ],
   "source": [
    "OBJ.example('SAY_TELL',15)"
   ]
  },
  {
   "cell_type": "code",
   "execution_count": 14,
   "metadata": {
    "scrolled": true
   },
   "outputs": [
    {
     "data": {
      "text/plain": [
       "\">> Gisel has said Wilkes-Barre through company will not patronize Williamsburg\\n\\n>> Clarín finds Charlotte 'orgous heritage' and affordable housing after five years\\n\\n>> Critics say another town can galvanize progressive community dialogue\\n\\n>> Alwyn turn to Pennsylvania police to deal with Harvey Weinstein in Moreno Valley in May\\n\\n>> Oregon Corporation faces multiple lawsuits over workforce rules, lucrative contract Deadlines show development plans may be hacked WAVE and has never lost its way\\n\\nIn Chapel Hill, the city in the District told state regulators this week that it would seek $75 million in incentives for changed conditions for properties that bear the Pleasant Inn's name.\""
      ]
     },
     "execution_count": 14,
     "metadata": {},
     "output_type": "execute_result"
    }
   ],
   "source": [
    "OBJ.org[410]"
   ]
  },
  {
   "cell_type": "code",
   "execution_count": 49,
   "metadata": {},
   "outputs": [
    {
     "data": {
      "text/plain": [
       "' McGill, who tells her family did not have a law enforcement incident report as of 5 p.m., is dubious Francis publicly expressed remorse.<|endoftext|>'"
      ]
     },
     "execution_count": 49,
     "metadata": {},
     "output_type": "execute_result"
    }
   ],
   "source": [
    "OBJ.trans[\"full\"]['test_no_filter_long'][0][817]"
   ]
  },
  {
   "cell_type": "code",
   "execution_count": null,
   "metadata": {},
   "outputs": [],
   "source": []
  }
 ],
 "metadata": {
  "kernelspec": {
   "display_name": "Python 3",
   "language": "python",
   "name": "python3"
  },
  "language_info": {
   "codemirror_mode": {
    "name": "ipython",
    "version": 3
   },
   "file_extension": ".py",
   "mimetype": "text/x-python",
   "name": "python",
   "nbconvert_exporter": "python",
   "pygments_lexer": "ipython3",
   "version": "3.7.9"
  }
 },
 "nbformat": 4,
 "nbformat_minor": 4
}
